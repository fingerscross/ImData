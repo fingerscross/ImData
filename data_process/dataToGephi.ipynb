{
 "cells": [
  {
   "cell_type": "code",
   "execution_count": 4,
   "metadata": {
    "collapsed": true,
    "ExecuteTime": {
     "end_time": "2024-12-14T04:34:25.796970200Z",
     "start_time": "2024-12-14T04:34:25.625667200Z"
    }
   },
   "outputs": [],
   "source": [
    "import pandas as pd\n",
    "\n",
    "# 读取节点内容\n",
    "nodes = pd.read_csv('ImData/cora/cora.content', sep='\\t', header=None)\n",
    "\n",
    "# 提取节点 ID 和标签\n",
    "node_ids = nodes[0]\n",
    "node_labels = nodes[nodes.columns[-1]]  # 通常最后一列是标签\n",
    "\n",
    "# 创建节点 DataFrame\n",
    "node_df = pd.DataFrame({'Id': node_ids, 'Label': node_labels})\n",
    "\n",
    "# 保存为 CSV 文件\n",
    "node_df.to_csv('ImData/cora/cora_nodes.csv', index=False)\n"
   ]
  },
  {
   "cell_type": "code",
   "execution_count": 5,
   "outputs": [],
   "source": [
    "# 读取边（引用关系）\n",
    "edges = pd.read_csv('ImData/cora/cora.cites', sep='\\t', header=None)\n",
    "\n",
    "# 创建边 DataFrame\n",
    "edge_df = pd.DataFrame({'Source': edges[0], 'Target': edges[1]})\n",
    "\n",
    "# 保存为 CSV 文件\n",
    "edge_df.to_csv('ImData/cora/cora_edges.csv', index=False)\n"
   ],
   "metadata": {
    "collapsed": false,
    "ExecuteTime": {
     "end_time": "2024-12-14T04:34:30.993515Z",
     "start_time": "2024-12-14T04:34:30.962513700Z"
    }
   }
  }
 ],
 "metadata": {
  "kernelspec": {
   "display_name": "Python 3",
   "language": "python",
   "name": "python3"
  },
  "language_info": {
   "codemirror_mode": {
    "name": "ipython",
    "version": 2
   },
   "file_extension": ".py",
   "mimetype": "text/x-python",
   "name": "python",
   "nbconvert_exporter": "python",
   "pygments_lexer": "ipython2",
   "version": "2.7.6"
  }
 },
 "nbformat": 4,
 "nbformat_minor": 0
}
