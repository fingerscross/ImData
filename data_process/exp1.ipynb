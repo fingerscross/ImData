{
 "cells": [
  {
   "cell_type": "code",
   "execution_count": 4,
   "metadata": {
    "collapsed": true,
    "ExecuteTime": {
     "end_time": "2024-12-11T07:45:06.946240900Z",
     "start_time": "2024-12-11T07:45:06.923306800Z"
    }
   },
   "outputs": [],
   "source": [
    "import networkx as nx\n",
    "import random\n",
    "\n",
    "# Generate a random graph\n",
    "graph = nx.erdos_renyi_graph(100, 0.05)\n",
    "\n",
    "# Set node thresholds and edge weights\n",
    "for node in graph.nodes():\n",
    "    graph.nodes[node][\"threshold\"] = random.randint(1, 10)\n",
    "for edge in graph.edges():\n",
    "    graph[edge[0]][edge[1]][\"weight\"] = random.uniform(0.1, 1.0)"
   ]
  },
  {
   "cell_type": "code",
   "execution_count": 5,
   "outputs": [
    {
     "name": "stdout",
     "output_type": "stream",
     "text": [
      "Max influence: 3\n"
     ]
    }
   ],
   "source": [
    "def ic_model(graph, seeds):\n",
    "    active_nodes = set(seeds)\n",
    "    state = {node: \"inactive\" for node in graph.nodes()}\n",
    "    for seed in seeds:\n",
    "        state[seed] = \"active\"\n",
    "    queue = list(seeds)\n",
    "    while len(queue) > 0:\n",
    "        node = queue.pop()\n",
    "        for neighbor in graph[node]:\n",
    "            if state[neighbor] == \"inactive\":\n",
    "                weight = graph[node][neighbor][\"weight\"]\n",
    "                threshold = graph.nodes[neighbor][\"threshold\"]\n",
    "                threshold_sum = sum([graph[neighbor][v][\"weight\"] for v in graph[neighbor] if state[v] == \"active\"])\n",
    "                if threshold_sum + weight >= threshold:\n",
    "                    state[neighbor] = \"active\"\n",
    "                    active_nodes.add(neighbor)\n",
    "                    queue.append(neighbor)\n",
    "                else:\n",
    "                    state[neighbor] = \"expired\"\n",
    "    return len(active_nodes)\n",
    "\n",
    "# Test the ic_model function\n",
    "seeds = [1, 2, 3]\n",
    "max_influence = ic_model(graph, seeds)\n",
    "print(\"Max influence:\", max_influence)"
   ],
   "metadata": {
    "collapsed": false,
    "ExecuteTime": {
     "end_time": "2024-12-11T07:45:09.944070600Z",
     "start_time": "2024-12-11T07:45:09.918043600Z"
    }
   }
  },
  {
   "cell_type": "code",
   "execution_count": 6,
   "outputs": [
    {
     "name": "stdout",
     "output_type": "stream",
     "text": [
      "Max influence with pruning: 3\n"
     ]
    }
   ],
   "source": [
    "def ic_model_with_pruning(graph, seeds):\n",
    "    active_nodes = set(seeds)\n",
    "    state = {node: \"inactive\" for node in graph.nodes()}\n",
    "    for seed in seeds:\n",
    "        state[seed] = \"active\"\n",
    "    queue = list(seeds)\n",
    "    while len(queue) > 0:\n",
    "        node = queue.pop()\n",
    "        for neighbor in graph[node]:\n",
    "            if state[neighbor] == \"inactive\":\n",
    "                weight = graph[node][neighbor][\"weight\"]\n",
    "                threshold = graph.nodes[neighbor][\"threshold\"]\n",
    "                threshold_sum = sum([graph[neighbor][v][\"weight\"] for v in graph[neighbor] if state[v] == \"active\"])\n",
    "                if threshold_sum + weight >= threshold:\n",
    "                    state[neighbor] = \"active\"\n",
    "                    active_nodes.add(neighbor)\n",
    "                    queue.append(neighbor)\n",
    "                else:\n",
    "                    state[neighbor] = \"expired\"\n",
    "            elif state[neighbor] == \"active\":\n",
    "                weight = graph[node][neighbor][\"weight\"]\n",
    "                threshold = graph.nodes[neighbor][\"threshold\"]\n",
    "                threshold_sum = sum([graph[neighbor][v][\"weight\"] for v in graph[neighbor] if state[v] == \"active\"])\n",
    "                if threshold_sum + weight < threshold:\n",
    "                    state[neighbor] = \"expired\"\n",
    "    return len(active_nodes)\n",
    "\n",
    "# Test the ic_model_with_pruning function\n",
    "seeds = [1, 2, 3]\n",
    "max_influence = ic_model_with_pruning(graph, seeds)\n",
    "print(\"Max influence with pruning:\", max_influence)"
   ],
   "metadata": {
    "collapsed": false,
    "ExecuteTime": {
     "end_time": "2024-12-11T07:45:11.992702200Z",
     "start_time": "2024-12-11T07:45:11.965421900Z"
    }
   }
  },
  {
   "cell_type": "code",
   "execution_count": 7,
   "outputs": [
    {
     "name": "stdout",
     "output_type": "stream",
     "text": [
      "Greedy algorithm result:\n",
      "Seeds: {0, 4, 37, 71, 8, 44, 50, 26}\n",
      "Max influence: 23\n"
     ]
    }
   ],
   "source": [
    "def greedy_algorithm(graph, k):\n",
    "    seeds = set()\n",
    "    influence = ic_model_with_pruning(graph, seeds)\n",
    "    while len(seeds) < k:\n",
    "        max_node = None\n",
    "        max_increase = -1\n",
    "        for node in graph.nodes():\n",
    "            if node not in seeds:\n",
    "                new_seeds = seeds | {node}\n",
    "                new_influence = ic_model_with_pruning(graph, new_seeds)\n",
    "                increase = new_influence - influence\n",
    "                if increase > max_increase:\n",
    "                    max_node = node\n",
    "                    max_increase = increase\n",
    "        if max_increase > 0:\n",
    "            seeds.add(max_node)\n",
    "            influence += max_increase\n",
    "        else:\n",
    "            break\n",
    "    return seeds, influence\n",
    "\n",
    "# Test the greedy_algorithm function\n",
    "seeds, max_influence = greedy_algorithm(graph, 10)\n",
    "print(\"Greedy algorithm result:\")\n",
    "print(\"Seeds:\", seeds)\n",
    "print(\"Max influence:\", max_influence)"
   ],
   "metadata": {
    "collapsed": false,
    "ExecuteTime": {
     "end_time": "2024-12-11T07:45:16.066029900Z",
     "start_time": "2024-12-11T07:45:15.987482800Z"
    }
   }
  },
  {
   "cell_type": "code",
   "execution_count": 8,
   "outputs": [
    {
     "name": "stdout",
     "output_type": "stream",
     "text": [
      "[0.30538110193613344, 0.2181748328136004, 0.5858577872628989, 0.2849953143526075, 0.5991080145150262, 0.9909784666250216, 0.806740405600709, 0.008713328933675601, 0.7878332317852551, 0.8579186826564871]\n",
      "Deep learning algorithm result:\n",
      "Seeds: [84, 97, 32, 39, 33, 71, 67, 80, 89, 78]\n",
      "Max influence: 18\n"
     ]
    }
   ],
   "source": [
    "#最后，我们可以使用基于深度学习的方法来选择种子节点，实现代码如下所示：\n",
    "\n",
    "import torch\n",
    "import torch.nn as nn\n",
    "import torch.optim as optim\n",
    "\n",
    "class Net(nn.Module):\n",
    "    def __init__(self, input_dim, hidden_dim, output_dim):\n",
    "        super(Net, self).__init__()\n",
    "        self.fc1 = nn.Linear(input_dim, hidden_dim)\n",
    "        self.fc2 = nn.Linear(hidden_dim, output_dim)\n",
    "\n",
    "    def forward(self, x):\n",
    "        x = torch.relu(self.fc1(x))\n",
    "        x = self.fc2(x)\n",
    "        return x\n",
    "\n",
    "def train_net(graph, features, labels):\n",
    "    net = Net(len(features[0]), 64, 1)\n",
    "    criterion = nn.MSELoss()\n",
    "    optimizer = optim.Adam(net.parameters(), lr=0.01)\n",
    "    # 将features从字典转换为张量\n",
    "    feature_tensor = torch.tensor([features[node] for node in graph.nodes()], dtype=torch.float32)\n",
    "    labels = labels.clone().detach().unsqueeze(1)\n",
    "\n",
    "    for epoch in range(100):\n",
    "        optimizer.zero_grad()\n",
    "        outputs = net(feature_tensor)\n",
    "        loss = criterion(outputs, labels)\n",
    "        loss.backward()\n",
    "        optimizer.step()\n",
    "    return net\n",
    "\n",
    "def predict_influence(net, features, nodes):\n",
    "    inputs = []\n",
    "    for node in nodes:\n",
    "        inputs.append(features[node])\n",
    "    # inputs = torch.tensor([features[node] for node in graph.nodes()], dtype=torch.float32)\n",
    "    inputs = torch.tensor(inputs, dtype=torch.float32)\n",
    "    with torch.no_grad():\n",
    "        outputs = net(inputs)\n",
    "        influence = {}\n",
    "        for node in nodes:\n",
    "            influence[node] = outputs[node].item()\n",
    "        # for i in range(len(nodes)):\n",
    "        #     influence[nodes[i][\"threshold\"]] = outputs[i].item()\n",
    "    return influence\n",
    "\n",
    "def select_seeds(influence, k):\n",
    "    seeds = []\n",
    "    sorted_influence = sorted(influence.items(), key=lambda x: x[1], reverse=True)\n",
    "    for i in range(k):\n",
    "        seeds.append(sorted_influence[i][0])\n",
    "    return seeds\n",
    "\n",
    "def deep_learning_algorithm(graph, features, k):\n",
    "    labels = []\n",
    "    for node in graph.nodes():\n",
    "        labels.append(ic_model_with_pruning(graph, [node]))\n",
    "    labels = torch.tensor(labels, dtype=torch.float32)\n",
    "    net = train_net(graph, features, labels)\n",
    "    influence = predict_influence(net, features, graph.nodes())\n",
    "\n",
    "    seeds = select_seeds(influence, k)\n",
    "    max_influence = ic_model_with_pruning(graph, seeds)\n",
    "    return seeds, max_influence\n",
    "\n",
    "# Test the deep_learning_algorithm function\n",
    "features = {node: [random.uniform(0.0, 1.0) for _ in range(10)] for node in graph.nodes()}\n",
    "print(features[0])\n",
    "seeds, max_influence = deep_learning_algorithm(graph, features, 10)\n",
    "print(\"Deep learning algorithm result:\")\n",
    "print(\"Seeds:\", seeds)\n",
    "print(\"Max influence:\", max_influence)\n",
    "# 以上就是完整的影响力最大化例子，其中包含了基于独立级联模型、剪枝策略、贪心算法和基于深度学习的方法。需要注意的是，该例子中使用的影响力传播模型和节点特征提取方法仅供参考，在实际应用中需要根据具体问题进行选择和调整。"
   ],
   "metadata": {
    "collapsed": false,
    "ExecuteTime": {
     "end_time": "2024-12-11T07:45:19.331298200Z",
     "start_time": "2024-12-11T07:45:18.119977700Z"
    }
   }
  }
 ],
 "metadata": {
  "kernelspec": {
   "display_name": "Python 3",
   "language": "python",
   "name": "python3"
  },
  "language_info": {
   "codemirror_mode": {
    "name": "ipython",
    "version": 2
   },
   "file_extension": ".py",
   "mimetype": "text/x-python",
   "name": "python",
   "nbconvert_exporter": "python",
   "pygments_lexer": "ipython2",
   "version": "2.7.6"
  }
 },
 "nbformat": 4,
 "nbformat_minor": 0
}
